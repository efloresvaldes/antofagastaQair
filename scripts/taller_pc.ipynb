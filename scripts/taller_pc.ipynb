{
 "cells": [
  {
   "metadata": {},
   "cell_type": "markdown",
   "source": [
    "## Taller de Cátedra Programación Científica\n",
    "### Análisis de la Calidad del Aire\n",
    "### Eva Flores Valdés"
   ],
   "id": "d614ceae4d3469d3"
  },
  {
   "metadata": {
    "ExecuteTime": {
     "end_time": "2024-07-28T04:39:32.368541Z",
     "start_time": "2024-07-28T04:39:32.364646Z"
    }
   },
   "cell_type": "code",
   "source": "### Carga y Limpieza de Datos",
   "id": "2ed95d795e2ac2a3",
   "outputs": [],
   "execution_count": 39
  },
  {
   "metadata": {
    "ExecuteTime": {
     "end_time": "2024-07-28T04:39:32.831191Z",
     "start_time": "2024-07-28T04:39:32.506524Z"
    }
   },
   "cell_type": "code",
   "source": [
    "#Importar dataset utilizando Pandas y funciones definidas para la limpieza de Datos\n",
    "import utils.cleaning_data_functions as cleaning_data_functions\n",
    "import pandas as pd\n",
    "\n",
    "#Datos del dataset Dióxido de Azufre\n",
    "df_so2 = pd.read_csv('../data/so2_180101_240101.csv', delimiter =';')\n",
    "df_mp10 = pd.read_csv('../data/mp10_180101_240101.csv',delimiter=';')\n",
    "df_mp2coma5 = pd.read_csv('../data/mp2COMA5_180101_240101.csv', delimiter = ';')\n",
    "\n",
    "\n",
    "#Construyendo el dataframe de temperaturas\n",
    "\n",
    "#Arreglo de registros de temperaturas anuales obtenidas del sitio de Servicios Meteorológicos de Dirección General De Aeronáutica Civil\n",
    "from io import StringIO\n",
    "registros = ['230001_2018_Temperatura_.csv','230001_2019_Temperatura_.csv','230001_2020_Temperatura_.csv','230001_2021_Temperatura_.csv','230001_2022_Temperatura_.csv','230001_2023_Temperatura_.csv','230001_2024_Temperatura_.csv']\n",
    "\n",
    "df_temperatura = pd.DataFrame()\n",
    "for registro in registros:\n",
    "    \n",
    "    file_url='../data/'+registro\n",
    "    \n",
    "    # Leer el archivo ignorando el delimitador específico\n",
    "    with open(file_url, 'r') as file:\n",
    "        lines = file.readlines()\n",
    "    \n",
    "    # Normalizar los delimitadores\n",
    "    normalized_lines = [line.replace(';', ',') for line in lines]\n",
    "    \n",
    "    # Unir las líneas normalizadas en una sola cadena de texto\n",
    "    normalized_data = ''.join(normalized_lines)\n",
    "    \n",
    "    # Usar StringIO para simular un archivo en memoria\n",
    "    data = StringIO(normalized_data)\n",
    "\n",
    "    # Leer el DataFrame a partir del archivo en memoria\n",
    "    df_temp = pd.read_csv(data)\n",
    "       \n",
    "    df_temp['momento'] = pd.to_datetime(df_temp['momento'], format='%d-%m-%Y %H:%M:%S')\n",
    "    \n",
    "    \n",
    "\n",
    "    df_temperatura_media = df_temp.groupby('momento')['Ts_Valor'].mean().reset_index()\n",
    "    df_temperatura = pd.concat([df_temperatura,df_temperatura_media],ignore_index=True)\n",
    "\n",
    "indice_valor = df_temperatura[df_temperatura['momento'] == '01-01-2024 00:00:00'].index[0]    \n",
    "df_temperatura = df_temperatura.iloc[:indice_valor]\n",
    "\n",
    "\n",
    "#imprimiendo información inicial de los dataframes\n",
    "print('-------------SO2--------------------')\n",
    "print(df_so2.info())\n",
    "print('--------------MP10-------------------')\n",
    "print(df_mp10.info())\n",
    "print('--------------MP2.5-------------------')\n",
    "print(df_mp2coma5.info())\n",
    "print('--------------Temperaturas-------------------')\n",
    "print(df_temperatura.info())\n",
    "\n"
   ],
   "id": "79ee78b29061ad1d",
   "outputs": [
    {
     "name": "stdout",
     "output_type": "stream",
     "text": [
      "-------------SO2--------------------\n",
      "<class 'pandas.core.frame.DataFrame'>\n",
      "RangeIndex: 2191 entries, 0 to 2190\n",
      "Data columns (total 6 columns):\n",
      " #   Column                  Non-Null Count  Dtype  \n",
      "---  ------                  --------------  -----  \n",
      " 0   FECHA (YYMMDD)          2191 non-null   int64  \n",
      " 1   HORA (HHMM)             2191 non-null   int64  \n",
      " 2   Registros validados     1568 non-null   object \n",
      " 3   Registros preliminares  421 non-null    object \n",
      " 4   Registros no validados  6 non-null      object \n",
      " 5   Unnamed: 5              0 non-null      float64\n",
      "dtypes: float64(1), int64(2), object(3)\n",
      "memory usage: 102.8+ KB\n",
      "None\n",
      "--------------MP10-------------------\n",
      "<class 'pandas.core.frame.DataFrame'>\n",
      "RangeIndex: 2191 entries, 0 to 2190\n",
      "Data columns (total 6 columns):\n",
      " #   Column                  Non-Null Count  Dtype  \n",
      "---  ------                  --------------  -----  \n",
      " 0   FECHA (YYMMDD)          2191 non-null   int64  \n",
      " 1   HORA (HHMM)             2191 non-null   int64  \n",
      " 2   Registros validados     2138 non-null   float64\n",
      " 3   Registros preliminares  0 non-null      float64\n",
      " 4   Registros no validados  36 non-null     float64\n",
      " 5   Unnamed: 5              0 non-null      float64\n",
      "dtypes: float64(4), int64(2)\n",
      "memory usage: 102.8 KB\n",
      "None\n",
      "--------------MP2.5-------------------\n",
      "<class 'pandas.core.frame.DataFrame'>\n",
      "RangeIndex: 2191 entries, 0 to 2190\n",
      "Data columns (total 6 columns):\n",
      " #   Column                  Non-Null Count  Dtype  \n",
      "---  ------                  --------------  -----  \n",
      " 0   FECHA (YYMMDD)          2191 non-null   int64  \n",
      " 1   HORA (HHMM)             2191 non-null   int64  \n",
      " 2   Registros validados     2122 non-null   float64\n",
      " 3   Registros preliminares  0 non-null      float64\n",
      " 4   Registros no validados  31 non-null     float64\n",
      " 5   Unnamed: 5              0 non-null      float64\n",
      "dtypes: float64(4), int64(2)\n",
      "memory usage: 102.8 KB\n",
      "None\n",
      "--------------Temperaturas-------------------\n",
      "<class 'pandas.core.frame.DataFrame'>\n",
      "RangeIndex: 53418 entries, 0 to 53417\n",
      "Data columns (total 2 columns):\n",
      " #   Column    Non-Null Count  Dtype         \n",
      "---  ------    --------------  -----         \n",
      " 0   momento   53418 non-null  datetime64[ns]\n",
      " 1   Ts_Valor  53398 non-null  float64       \n",
      "dtypes: datetime64[ns](1), float64(1)\n",
      "memory usage: 834.8 KB\n",
      "None\n"
     ]
    }
   ],
   "execution_count": 40
  },
  {
   "metadata": {},
   "cell_type": "markdown",
   "source": [
    "### Eliminación de registros duplicados\n",
    "Como se está trabajando con registros diarios el análisis de los duplicados se realizará sobre la columna Fecha"
   ],
   "id": "b38ecee34bf3558"
  },
  {
   "metadata": {
    "ExecuteTime": {
     "end_time": "2024-07-28T04:39:32.854732Z",
     "start_time": "2024-07-28T04:39:32.832194Z"
    }
   },
   "cell_type": "code",
   "source": [
    "#Eliminar registros duplicados si existen en dataframe SO2\n",
    "\n",
    "df_so2 = cleaning_data_functions.eliminar_duplicados(df_so2,columnas=['FECHA (YYMMDD)'])\n",
    "print(f\"Cantidad de registros duplicados en dataframe SO2 después de eliminación: {df_so2.duplicated().sum()}\")\n",
    "\n",
    "#Eliminar registros duplicados si existen en dataframe MP10\n",
    "df_mp10 = cleaning_data_functions.eliminar_duplicados(df_mp10,columnas=['FECHA (YYMMDD)'])\n",
    "print(f\"Cantidad de registros duplicados en dataframe MP10 después de eliminación: {df_mp10.duplicated().sum()}\")\n",
    "\n",
    "#Eliminar registros duplicados si existen en dataframe MP2,5\n",
    "df_mp2coma5 = cleaning_data_functions.eliminar_duplicados(df_mp2coma5, columnas=['FECHA (YYMMDD)'])\n",
    "print(f\"Cantidad de registros duplicados en dataframe MP2,5 después de eliminación: {df_mp2coma5.duplicated().sum()}\")\n",
    "\n",
    "#Eliminar registros duplicados si existen en dataframe MP2,5\n",
    "df_temperatura = cleaning_data_functions.eliminar_duplicados(df_temperatura, columnas=['momento'])\n",
    "print(f\"Cantidad de registros duplicados en dataframe Temperatura  después de eliminación: {df_temperatura.duplicated().sum()}\")"
   ],
   "id": "3a6ab549bb9f7e52",
   "outputs": [
    {
     "name": "stdout",
     "output_type": "stream",
     "text": [
      "Cantidad de registros duplicados en dataframe SO2 después de eliminación: 0\n",
      "Cantidad de registros duplicados en dataframe MP10 después de eliminación: 0\n",
      "Cantidad de registros duplicados en dataframe MP2,5 después de eliminación: 0\n",
      "Cantidad de registros duplicados en dataframe Temperatura  después de eliminación: 0\n"
     ]
    }
   ],
   "execution_count": 41
  },
  {
   "metadata": {
    "ExecuteTime": {
     "end_time": "2024-07-28T04:39:32.859601Z",
     "start_time": "2024-07-28T04:39:32.855736Z"
    }
   },
   "cell_type": "code",
   "source": [
    "#Verificar cantidad de registros en el dataframe resultante\n",
    "registros_totales_so2 = df_so2.shape[0]\n",
    "registros_totales_mp10 = df_mp10.shape[0]\n",
    "registros_totales_mp2coma5 = df_mp2coma5.shape[0]\n",
    "registros_totales_temperatura = df_temperatura.shape[0]\n",
    "\n",
    "print(f\"Cantidad de registros en dataframe SO2:{registros_totales_so2}\")\n",
    "print(f\"Cantidad de registros en dataframe MP10:{registros_totales_mp10}\")\n",
    "print(f\"Cantidad de registros en dataframe MP2.5:{registros_totales_mp2coma5}\")\n",
    "print(f\"Cantidad de registros en dataframe Temperaturas:{registros_totales_mp2coma5}\")"
   ],
   "id": "c635018c91ecc33e",
   "outputs": [
    {
     "name": "stdout",
     "output_type": "stream",
     "text": [
      "Cantidad de registros en dataframe SO2:2191\n",
      "Cantidad de registros en dataframe MP10:2191\n",
      "Cantidad de registros en dataframe MP2.5:2191\n",
      "Cantidad de registros en dataframe Temperaturas:2191\n"
     ]
    }
   ],
   "execution_count": 42
  },
  {
   "metadata": {},
   "cell_type": "markdown",
   "source": "Después del proceso de eliminación de registros duplicados, ya se tienen los datasets alineados con la misma cantidad de registros cada uno",
   "id": "1f974d18412392c6"
  },
  {
   "metadata": {},
   "cell_type": "markdown",
   "source": "",
   "id": "a6d48ea1c7ca498a"
  },
  {
   "metadata": {},
   "cell_type": "markdown",
   "source": [
    "### Conversión de tipos de datos\n",
    "Para entrenar los modelos partiendo de una fecha y/o de la temperatura diaria para predecir calidad del aire teniendo en cuenta los contaminantes SO2, MP10 y MP2.5; se analizarán como variable resultado la columna \"Registros Validados\" de los tres dataframes: por lo que se trabajará en limpiar y preprocesar la información de esta columna."
   ],
   "id": "6343d2dbf5346c6d"
  },
  {
   "metadata": {},
   "cell_type": "markdown",
   "source": [
    "A través de la visualización de la información de los dataframes objeto de análisis, ejecutada anteriormente, se puede observar que para el dataframe SO2 esta columna tiene tipo de dato object.\n",
    "A continuación sde realizará una conversión a tipo de dato float64 para alinear con las demás columnas análogas en los otros dataframes"
   ],
   "id": "fe4dbee3eefe0fd4"
  },
  {
   "metadata": {
    "ExecuteTime": {
     "end_time": "2024-07-28T04:39:32.866298Z",
     "start_time": "2024-07-28T04:39:32.860608Z"
    }
   },
   "cell_type": "code",
   "source": [
    "# Verificar que los valores asociados a esta columna tengan como separador el '.'\n",
    "valores_filtrados = df_so2['Registros validados'].apply(lambda x: len(str(x)) > 3)\n",
    "print(df_so2['Registros validados'][valores_filtrados])\n"
   ],
   "id": "db2397c2ffa57a05",
   "outputs": [
    {
     "name": "stdout",
     "output_type": "stream",
     "text": [
      "151     1,08\n",
      "157     1,03\n",
      "158     1,02\n",
      "159     1,01\n",
      "161     1,01\n",
      "        ... \n",
      "1904    1,02\n",
      "1926    1,01\n",
      "1962    1,01\n",
      "2053    1,02\n",
      "2082    1,01\n",
      "Name: Registros validados, Length: 237, dtype: object\n"
     ]
    }
   ],
   "execution_count": 43
  },
  {
   "metadata": {
    "ExecuteTime": {
     "end_time": "2024-07-28T04:39:32.878683Z",
     "start_time": "2024-07-28T04:39:32.868307Z"
    }
   },
   "cell_type": "code",
   "source": [
    "#cambiando la coma por el punto para evitar error de conversión\n",
    "df_so2['Registros validados'] = df_so2['Registros validados'].str.replace(',', '.')\n",
    "#Convertir tipo de datos\n",
    "df_so2['Registros validados'] = pd.to_numeric(df_so2['Registros validados'])\n",
    "#Verificar proceso de conversión\n",
    "print(df_so2['Registros validados'].info())"
   ],
   "id": "c05bd465a47547b2",
   "outputs": [
    {
     "name": "stdout",
     "output_type": "stream",
     "text": [
      "<class 'pandas.core.series.Series'>\n",
      "RangeIndex: 2191 entries, 0 to 2190\n",
      "Series name: Registros validados\n",
      "Non-Null Count  Dtype  \n",
      "--------------  -----  \n",
      "1568 non-null   float64\n",
      "dtypes: float64(1)\n",
      "memory usage: 17.2 KB\n",
      "None\n"
     ]
    }
   ],
   "execution_count": 44
  },
  {
   "metadata": {},
   "cell_type": "markdown",
   "source": "Como se muestra anteriormente el tipo de dato asociado a la columna \"Registros Validados\" fue cambiado satisfactoriamente",
   "id": "b5f863a2048e7c12"
  },
  {
   "metadata": {},
   "cell_type": "markdown",
   "source": [
    "### Tratamiento de Valores nulos\n",
    "Para este proceso seguiremos trabajado con las columnas Registros Validados de los tres dataframes"
   ],
   "id": "48c82bde0a1d9ff9"
  },
  {
   "metadata": {
    "ExecuteTime": {
     "end_time": "2024-07-28T04:39:32.889046Z",
     "start_time": "2024-07-28T04:39:32.879694Z"
    }
   },
   "cell_type": "code",
   "source": [
    "df_so2 = cleaning_data_functions.imputar_valores_faltantes(df_so2,columnas=['Registros validados'],estrategia='media')\n",
    "df_mp10= cleaning_data_functions.imputar_valores_faltantes(df_mp10,columnas=['Registros validados'],estrategia='media')\n",
    "df_mp2coma5 = cleaning_data_functions.imputar_valores_faltantes(df_mp2coma5,columnas=['Registros validados'],estrategia='media')\n",
    "\n",
    "print(f\" Registros validados nulos después de imputación: {df_so2['Registros validados'].isnull().sum()}/{registros_totales_so2} registros totales\")\n",
    "print(f\" Registros validados nulos después de imputación: {df_mp10['Registros validados'].isnull().sum()}/{registros_totales_mp10} registros totales\")\n",
    "print(f\" Registros validados nulos después de imputación: {df_mp2coma5['Registros validados'].isnull().sum()}/{registros_totales_mp2coma5} registros totales\")"
   ],
   "id": "8658912e5ed3dd5e",
   "outputs": [
    {
     "name": "stdout",
     "output_type": "stream",
     "text": [
      " Registros validados nulos después de imputación: 0/2191 registros totales\n",
      " Registros validados nulos después de imputación: 0/2191 registros totales\n",
      " Registros validados nulos después de imputación: 0/2191 registros totales\n"
     ]
    }
   ],
   "execution_count": 45
  },
  {
   "metadata": {},
   "cell_type": "markdown",
   "source": [
    "### Construyendo el dataframe final de análisis\n",
    "Columnas:\n",
    "  * Fecha(en formato YYYY-MM-DD) \n",
    "  * Tempratura media en grados celsius\n",
    "  * Registros validados SO2\n",
    "  * Registros validados MP10\n",
    "  * Registros validados 2coma5\n"
   ],
   "id": "d5ec3a83a2f2390a"
  },
  {
   "metadata": {
    "ExecuteTime": {
     "end_time": "2024-07-28T04:39:32.907366Z",
     "start_time": "2024-07-28T04:39:32.890054Z"
    }
   },
   "cell_type": "code",
   "source": [
    "#Cambiando el nombre de las columnas\n",
    "df_temperatura = df_temperatura.rename(columns={'momento': 'Fecha'})\n",
    "df_temperatura = df_temperatura.rename(columns={'Ts_Valor': 'Temperatura Media'})\n",
    "df_so2 = df_so2.rename(columns={'Registros validados': 'RV1'})\n",
    "df_mp10 = df_mp10.rename(columns={'Registros validados': 'RV2'})\n",
    "df_mp2coma5 = df_mp2coma5.rename(columns={'Registros validados': 'RV3'})\n",
    "\n",
    "# Seleccionar columnas específicas de cada dataframe\n",
    "df_temperatura_sel = df_temperatura[['Fecha','Temperatura Media']]\n",
    "df_so2_sel = df_so2[['RV1']]\n",
    "df_so2_mp10_sel = df_mp10[[ 'RV2']]\n",
    "df_mp2coma5_sel = df_mp2coma5[[ 'RV3']]\n",
    "\n",
    "\n",
    "df = pd.concat([df_temperatura_sel,df_so2_sel, df_so2_mp10_sel,df_mp2coma5_sel], axis=1)\n",
    "\n",
    "print(df.info())"
   ],
   "id": "473f9427cbc0931f",
   "outputs": [
    {
     "name": "stdout",
     "output_type": "stream",
     "text": [
      "<class 'pandas.core.frame.DataFrame'>\n",
      "RangeIndex: 53418 entries, 0 to 53417\n",
      "Data columns (total 5 columns):\n",
      " #   Column             Non-Null Count  Dtype         \n",
      "---  ------             --------------  -----         \n",
      " 0   Fecha              53418 non-null  datetime64[ns]\n",
      " 1   Temperatura Media  53398 non-null  float64       \n",
      " 2   RV1                2191 non-null   float64       \n",
      " 3   RV2                2191 non-null   float64       \n",
      " 4   RV3                2191 non-null   float64       \n",
      "dtypes: datetime64[ns](1), float64(4)\n",
      "memory usage: 2.0 MB\n",
      "None\n"
     ]
    }
   ],
   "execution_count": 46
  },
  {
   "metadata": {},
   "cell_type": "markdown",
   "source": "### Mostrando outliers utilizando boxplots",
   "id": "aa89af3c4ed638ab"
  },
  {
   "metadata": {
    "ExecuteTime": {
     "end_time": "2024-07-28T04:39:33.400400Z",
     "start_time": "2024-07-28T04:39:32.908372Z"
    }
   },
   "cell_type": "code",
   "source": [
    "import matplotlib.pyplot as plt\n",
    "# Crear una figura con tres subplots uno al lado del otro\n",
    "fig, axs = plt.subplots(1, 4, figsize=(10, 4))\n",
    "\n",
    "# Llamar a la función para imprimir los boxplots en los subplots\n",
    "cleaning_data_functions.plot_outliers(df,'RV1','Boxplot de Registros validados para SO2',axs[0])\n",
    "cleaning_data_functions.plot_outliers(df,'RV2','Boxplot de Registros validados para SO2',axs[1])\n",
    "cleaning_data_functions.plot_outliers(df,'RV3','Boxplot de Registros validados para SO2',axs[2])\n",
    "cleaning_data_functions.plot_outliers(df,'Temperatura Media','Boxplot de Registros validados para Temperatura Media',axs[3])\n",
    "\n",
    "\n",
    "# Ajustar el espacio entre los subplots\n",
    "plt.tight_layout()\n",
    "\n",
    "# Mostrar la figura\n",
    "plt.show()\n",
    "\n"
   ],
   "id": "b9c7c294153fd2f",
   "outputs": [
    {
     "data": {
      "text/plain": [
       "<Figure size 1000x400 with 4 Axes>"
      ],
      "image/png": "[encoded data removed]"
     },
     "metadata": {},
     "output_type": "display_data"
    },
    {
     "data": {
      "text/plain": [
       "<Figure size 1000x600 with 0 Axes>"
      ]
     },
     "metadata": {},
     "output_type": "display_data"
    },
    {
     "data": {
      "text/plain": [
       "<Figure size 1000x600 with 0 Axes>"
      ]
     },
     "metadata": {},
     "output_type": "display_data"
    },
    {
     "data": {
      "text/plain": [
       "<Figure size 1000x600 with 0 Axes>"
      ]
     },
     "metadata": {},
     "output_type": "display_data"
    },
    {
     "data": {
      "text/plain": [
       "<Figure size 1000x600 with 0 Axes>"
      ]
     },
     "metadata": {},
     "output_type": "display_data"
    }
   ],
   "execution_count": 47
  },
  {
   "metadata": {},
   "cell_type": "markdown",
   "source": [
    "Como se puede apreciar en las tres columnas RV1, RV2, RV3 existen outliers, a continuación se preocederá a aliminarlos. \n",
    "\n",
    "La columna temperaturas no presentan outliers"
   ],
   "id": "b71a05233e8d15d7"
  },
  {
   "metadata": {
    "ExecuteTime": {
     "end_time": "2024-07-28T04:39:33.412570Z",
     "start_time": "2024-07-28T04:39:33.401411Z"
    }
   },
   "cell_type": "code",
   "source": [
    "columns_outliers = ['RV1', 'RV2', 'RV3']\n",
    "for column in columns_outliers:\n",
    "    df = cleaning_data_functions.eliminar_outliers(df,column)\n",
    "    \n",
    "print(df.info())\n"
   ],
   "id": "cf3df08be17943d5",
   "outputs": [
    {
     "name": "stdout",
     "output_type": "stream",
     "text": [
      "<class 'pandas.core.frame.DataFrame'>\n",
      "Index: 1979 entries, 0 to 2190\n",
      "Data columns (total 5 columns):\n",
      " #   Column             Non-Null Count  Dtype         \n",
      "---  ------             --------------  -----         \n",
      " 0   Fecha              1979 non-null   datetime64[ns]\n",
      " 1   Temperatura Media  1979 non-null   float64       \n",
      " 2   RV1                1979 non-null   float64       \n",
      " 3   RV2                1979 non-null   float64       \n",
      " 4   RV3                1979 non-null   float64       \n",
      "dtypes: datetime64[ns](1), float64(4)\n",
      "memory usage: 92.8 KB\n",
      "None\n"
     ]
    }
   ],
   "execution_count": 48
  },
  {
   "metadata": {},
   "cell_type": "markdown",
   "source": "Después de remover outliers quedó un dataframe con 1979 registros",
   "id": "ae3c2efb5c7515ab"
  },
  {
   "metadata": {},
   "cell_type": "markdown",
   "source": [
    "### Guardar la el dataframe obtenido en un fichero csv\n",
    "\n"
   ],
   "id": "a33a96c2ccd29b30"
  },
  {
   "metadata": {
    "ExecuteTime": {
     "end_time": "2024-07-28T04:39:33.420711Z",
     "start_time": "2024-07-28T04:39:33.414580Z"
    }
   },
   "cell_type": "code",
   "source": [
    "import os\n",
    "\n",
    "archive_name = 'qair.csv'\n",
    "file_path = '../data/'+ archive_name\n",
    "directory = 'data'\n",
    "\n",
    "if os.path.exists(file_path):\n",
    "    print(f\"El archivo '{archive_name}' existe en el directorio '{directory}'.\")\n",
    "else:\n",
    "    df.to_csv('../data/qair.csv', sep=';', index=False, header=True)"
   ],
   "id": "f7b2ce8cdd84b2bb",
   "outputs": [
    {
     "name": "stdout",
     "output_type": "stream",
     "text": [
      "El archivo 'qair.csv' existe en el directorio 'data'.\n"
     ]
    }
   ],
   "execution_count": 49
  },
  {
   "metadata": {},
   "cell_type": "markdown",
   "source": "",
   "id": "e0843c4ee53d2164"
  },
  {
   "metadata": {},
   "cell_type": "markdown",
   "source": "## Análisis Exploratorio de los Datos",
   "id": "9a21f1a0264e57ab"
  },
  {
   "metadata": {},
   "cell_type": "markdown",
   "source": "### Visualizar características generales del dataframe",
   "id": "6a5f1c5c35f5f2fe"
  },
  {
   "metadata": {
    "ExecuteTime": {
     "end_time": "2024-07-28T04:39:33.430430Z",
     "start_time": "2024-07-28T04:39:33.422730Z"
    }
   },
   "cell_type": "code",
   "source": "print(df.info())",
   "id": "ac28091925d307b6",
   "outputs": [
    {
     "name": "stdout",
     "output_type": "stream",
     "text": [
      "<class 'pandas.core.frame.DataFrame'>\n",
      "Index: 1979 entries, 0 to 2190\n",
      "Data columns (total 5 columns):\n",
      " #   Column             Non-Null Count  Dtype         \n",
      "---  ------             --------------  -----         \n",
      " 0   Fecha              1979 non-null   datetime64[ns]\n",
      " 1   Temperatura Media  1979 non-null   float64       \n",
      " 2   RV1                1979 non-null   float64       \n",
      " 3   RV2                1979 non-null   float64       \n",
      " 4   RV3                1979 non-null   float64       \n",
      "dtypes: datetime64[ns](1), float64(4)\n",
      "memory usage: 92.8 KB\n",
      "None\n"
     ]
    }
   ],
   "execution_count": 50
  },
  {
   "metadata": {},
   "cell_type": "markdown",
   "source": [
    "**Características Generales del dataframe** \n",
    "\n",
    "* Cantidad de Columnas: 5\n",
    "* Cantidad de Filas: 1973\n",
    "* Variables numéricas : 5\n"
   ],
   "id": "6b6374af3c6b49ab"
  },
  {
   "metadata": {
    "ExecuteTime": {
     "end_time": "2024-07-28T04:39:33.436016Z",
     "start_time": "2024-07-28T04:39:33.431458Z"
    }
   },
   "cell_type": "code",
   "source": "### Visualizando estadísticas descriptivas del dataframe",
   "id": "5a020a6decc24f8c",
   "outputs": [],
   "execution_count": 51
  },
  {
   "metadata": {
    "ExecuteTime": {
     "end_time": "2024-07-28T04:39:33.451603Z",
     "start_time": "2024-07-28T04:39:33.437022Z"
    }
   },
   "cell_type": "code",
   "source": "print(df.describe())\n",
   "id": "ccb973415513bdee",
   "outputs": [
    {
     "name": "stdout",
     "output_type": "stream",
     "text": [
      "                               Fecha  Temperatura Media          RV1  \\\n",
      "count                           1979        1979.000000  1979.000000   \n",
      "mean   2018-02-16 22:49:17.220818688          19.609348     1.004338   \n",
      "min              2018-01-01 00:00:00          13.300000     1.000000   \n",
      "25%              2018-01-26 22:30:00          18.200000     1.000000   \n",
      "50%              2018-02-17 07:00:00          19.500000     1.000000   \n",
      "75%              2018-03-11 09:30:00          21.200000     1.011888   \n",
      "max              2018-04-01 10:00:00          24.900000     1.020000   \n",
      "std                              NaN           2.090708     0.005873   \n",
      "\n",
      "               RV2          RV3  \n",
      "count  1979.000000  1979.000000  \n",
      "mean     32.138424    10.284710  \n",
      "min       7.000000     2.000000  \n",
      "25%      26.000000     7.000000  \n",
      "50%      32.000000    10.000000  \n",
      "75%      38.000000    13.000000  \n",
      "max      58.000000    20.000000  \n",
      "std       8.796206     3.736141  \n"
     ]
    }
   ],
   "execution_count": 52
  },
  {
   "metadata": {},
   "cell_type": "markdown",
   "source": [
    "58.000000**Resumen de las estadísticas descriptivas**\n",
    "\n",
    "**Variable RV1: Valor registrado de dióxido de azufre**\n",
    "\n",
    " * Media (Promedio): La media de RV1 es de 1.004338.\n",
    " * Desviación Estándard: La dispersión de los datos en relación con la media es de 0.005873  \n",
    " * Valores extremos: el valor mínimo es: 1.000000 y el máximo es 1.020000\n",
    " \n",
    " A priori se pueda observar que los valores, para esta variable, se mantienen con una baja variabilidad, siendo los intervalos de mínimo y máximo bien parecidos lo que indica una presencia de valores constantes de este contaminante en el aire. \n",
    " \n",
    "**Variable RV2: Valor registrado de MP10**\n",
    "\n",
    " * Media (Promedio): La media de RV1 es de 32.138424.\n",
    " * Desviación Estándard: La dispersión de los datos en relación con la media es de 8.796206  \n",
    " * Valores extremos: el valor mínimo es: 7.000000 y el máximo es 58.000000\n",
    " \n",
    "Al contrario que RV1, RV2 varia bastante diariamente por lo que puede tener un mayor impacto en la calidad del aire\n",
    "\n",
    " \n",
    "RV3 también presenta una variación diaria por lo que también puede tener impacto en la calidad del aire\n",
    "\n",
    "**Temoeratura Promedio diaria: **\n",
    "\n",
    " * Media (Promedio): La media de RV1 es de 16.722713.\n",
    " * Desviación Estándard: La dispersión de los datos en relación con la media es de 2.474363  \n",
    " * Valores extremos: el valor mínimo es: 11.756000 y el máximo es 23.900000\n",
    "\n",
    "La temperatura se mantiene en valores aceptables indicando que la región de Antofagasta no es susceptible a cambios bruscos, ni de forma diaria ni de forma estacional."
   ],
   "id": "7bd183cda9b917a"
  },
  {
   "metadata": {},
   "cell_type": "markdown",
   "source": "## Graficando Distribución de Variables",
   "id": "7b76bcbbb978f691"
  },
  {
   "metadata": {
    "ExecuteTime": {
     "end_time": "2024-07-28T04:39:33.915259Z",
     "start_time": "2024-07-28T04:39:33.452609Z"
    }
   },
   "cell_type": "code",
   "source": [
    "columns = ['RV1', 'RV2', 'RV3','Temperatura Media']\n",
    "\n",
    "fig, axs = plt.subplots(1,4,figsize=(10, 4))\n",
    "\n",
    "\n",
    "axs = axs.flatten()\n",
    "\n",
    "# Dibujar histogramas en cada celda\n",
    "for i in range(4):\n",
    "    \n",
    "    #se muestran los gráficos con un número de bins calculados de forma automática\n",
    "    axs[i].hist(df[columns[i]], bins='auto', color='red')\n",
    "    axs[i].set_title(columns[i])\n",
    "   \n",
    "\n",
    "# Ajustar el layout\n",
    "plt.tight_layout()\n",
    "\n",
    "# Imprimir gráficos\n",
    "plt.show()"
   ],
   "id": "8624277d531d2144",
   "outputs": [
    {
     "data": {
      "text/plain": [
       "<Figure size 1000x400 with 4 Axes>"
      ],
      "image/png": "[encoded data removed]"
     },
     "metadata": {},
     "output_type": "display_data"
    }
   ],
   "execution_count": 53
  },
  {
   "metadata": {},
   "cell_type": "markdown",
   "source": [
    "Para RV1: Los valores están agrupados en 4 barras con alguna dispersión entre ellas por lo que se pudiera pensar en representar estos valores como categorías\n",
    "\n",
    "Para RV2 y RV3 se puede asumir por la forma de su distribución una simetría\n",
    "\n",
    "Con respecto a las temperaturas son bastante uniformes "
   ],
   "id": "6332f0f55bb4ec00"
  },
  {
   "metadata": {},
   "cell_type": "markdown",
   "source": "",
   "id": "98f05e01b35c0e68"
  },
  {
   "metadata": {},
   "cell_type": "markdown",
   "source": "### Análisis de Correlación entre variables",
   "id": "d7d0486c98041782"
  },
  {
   "metadata": {
    "ExecuteTime": {
     "end_time": "2024-07-28T04:39:34.049752Z",
     "start_time": "2024-07-28T04:39:33.916265Z"
    }
   },
   "cell_type": "code",
   "source": [
    "corr_matrix = df.corr(numeric_only=True)\n",
    "print(corr_matrix)\n",
    "\n",
    "plt.figure(figsize=(8, 6))\n",
    "plt.imshow(corr_matrix, cmap='coolwarm', interpolation='nearest')\n",
    "plt.colorbar(label='Matriz de correlación')\n",
    "plt.xticks(range(len(corr_matrix)), corr_matrix.columns, rotation=45)\n",
    "plt.yticks(range(len(corr_matrix)), corr_matrix.columns)\n",
    "plt.tight_layout()\n",
    "plt.show()"
   ],
   "id": "d2abde74cff88bd8",
   "outputs": [
    {
     "name": "stdout",
     "output_type": "stream",
     "text": [
      "                   Temperatura Media       RV1       RV2       RV3\n",
      "Temperatura Media           1.000000  0.169294 -0.031992 -0.070590\n",
      "RV1                         0.169294  1.000000 -0.027114 -0.069198\n",
      "RV2                        -0.031992 -0.027114  1.000000  0.723013\n",
      "RV3                        -0.070590 -0.069198  0.723013  1.000000\n"
     ]
    },
    {
     "data": {
      "text/plain": [
       "<Figure size 800x600 with 2 Axes>"
      ],
      "image/png": "[encoded data removed]"
     },
     "metadata": {},
     "output_type": "display_data"
    }
   ],
   "execution_count": 54
  },
  {
   "metadata": {},
   "cell_type": "markdown",
   "source": [
    "Si determinamos un valor umbral de correlación de +-0.5 se tiene que:\n",
    "\n",
    "* RV1 no está estrechamente correlacionado con ninguna variable\n",
    "* RV2 y RV3 están correlacionados con un valor de 0.723013\n",
    "* La temperatura y la Fecha no se correlacionan con ninguna variable\n"
   ],
   "id": "1639f613ddd17e2c"
  },
  {
   "metadata": {},
   "cell_type": "markdown",
   "source": "### Analizando relaciones entre par de variables para determinar el modelos utilizar",
   "id": "7652dd83aff2af0c"
  },
  {
   "metadata": {
    "ExecuteTime": {
     "end_time": "2024-07-28T04:39:34.351414Z",
     "start_time": "2024-07-28T04:39:34.050761Z"
    }
   },
   "cell_type": "code",
   "source": [
    "columns = ['RV1', 'RV2', 'RV3']\n",
    "\n",
    "fig, axs = plt.subplots(1,3,figsize=(10, 4))\n",
    "\n",
    "\n",
    "axs = axs.flatten()\n",
    "\n",
    "# Dibujar histogramas en cada celda\n",
    "for i in range(3):\n",
    "    column = columns[i]\n",
    "    #se muestran los gráficos con un número de bins calculados de forma automática\n",
    "    axs[i].scatter(df['Temperatura Media'], df[column])\n",
    "    axs[i].set_xlabel('Temperatura Media')\n",
    "    axs[i].set_ylabel(column)\n",
    "    axs[i].set_title('Temperatura vs ' + column)\n",
    "   \n",
    "\n",
    "# Ajustar el layout\n",
    "plt.tight_layout()\n",
    "\n",
    "# Imprimir gráficos\n",
    "plt.show()\n"
   ],
   "id": "7c15645694f2d18c",
   "outputs": [
    {
     "data": {
      "text/plain": [
       "<Figure size 1000x400 with 3 Axes>"
      ],
      "image/png": "[encoded data removed]"
     },
     "metadata": {},
     "output_type": "display_data"
    }
   ],
   "execution_count": 55
  },
  {
   "metadata": {},
   "cell_type": "markdown",
   "source": [
    "Como se puede apreciar en los gráficos anteriores no se puede apreciar relación lineal entre la temperatura y diferentes valores de contaminantes\n",
    "\n",
    "Utilizaremos un modelo de RandomForest para hacer las predicciones"
   ],
   "id": "df87f47811d21493"
  },
  {
   "metadata": {},
   "cell_type": "markdown",
   "source": "## Entrenamiento de Modelos",
   "id": "7f0c2b753b720dab"
  },
  {
   "metadata": {
    "ExecuteTime": {
     "end_time": "2024-07-28T04:39:34.366323Z",
     "start_time": "2024-07-28T04:39:34.352422Z"
    }
   },
   "cell_type": "code",
   "source": [
    "df = cleaning_data_functions.sparseDates(df,'Fecha')\n",
    "print(df.info())"
   ],
   "id": "41dceb1f2cd83a57",
   "outputs": [
    {
     "name": "stdout",
     "output_type": "stream",
     "text": [
      "<class 'pandas.core.frame.DataFrame'>\n",
      "Index: 1979 entries, 0 to 2190\n",
      "Data columns (total 9 columns):\n",
      " #   Column             Non-Null Count  Dtype         \n",
      "---  ------             --------------  -----         \n",
      " 0   Fecha              1979 non-null   datetime64[ns]\n",
      " 1   Temperatura Media  1979 non-null   float64       \n",
      " 2   RV1                1979 non-null   float64       \n",
      " 3   RV2                1979 non-null   float64       \n",
      " 4   RV3                1979 non-null   float64       \n",
      " 5   fecha              1979 non-null   datetime64[ns]\n",
      " 6   year               1979 non-null   int32         \n",
      " 7   mes                1979 non-null   int32         \n",
      " 8   day                1979 non-null   int32         \n",
      "dtypes: datetime64[ns](2), float64(4), int32(3)\n",
      "memory usage: 131.4 KB\n",
      "None\n"
     ]
    }
   ],
   "execution_count": 56
  },
  {
   "metadata": {},
   "cell_type": "markdown",
   "source": "",
   "id": "cf9022d1fd66c878"
  },
  {
   "metadata": {
    "ExecuteTime": {
     "end_time": "2024-07-28T04:39:34.862001Z",
     "start_time": "2024-07-28T04:39:34.368330Z"
    }
   },
   "cell_type": "code",
   "source": [
    "import utils.training_models_functions as training_models_functions\n",
    "#Para predecir RV1\n",
    "\n",
    "print(\"-------------Métrivas para Dióxido de Azufre---------------------------------------------------------\")\n",
    "model_rv1 = training_models_functions.entrenar_modelo_randomforest(df,'RV1',['year','mes','day','Temperatura Media'])\n",
    "print(\"----------------------Métrivas para MP10---------------------------------------------------------\")\n",
    "model_rv2 = training_models_functions.regresion_lineal_polinomica(df,['year','mes','day','Temperatura Media'],'RV2',4)\n",
    "print(\"----------------------Métrivas para MP2.5---------------------------------------------------------\")\n",
    "model_rv3 = training_models_functions.entrenar_modelo_randomforest(df,'RV3',['year','mes','day','Temperatura Media'])"
   ],
   "id": "391cfc35dbd22676",
   "outputs": [
    {
     "name": "stdout",
     "output_type": "stream",
     "text": [
      "-------------Métrivas para Dióxido de Azufre---------------------------------------------------------\n",
      "Error Cuadrático Medio (MSE): 1.929883701934875e-05\n",
      "Error Absoluto Medio (MAE): 0.00236538726673966\n",
      "Coeficiente de Determinación (R²): 0.4435086244832883\n",
      "----------------------Métrivas para MP10---------------------------------------------------------\n",
      "Error Cuadrático Medio (MSE): 55.62162527441859\n",
      "Error Absoluto Medio (MAE): 5.935689532427115\n",
      "Coeficiente de Determinación (R²): 0.3109724309519275\n",
      "----------------------Métrivas para MP2.5---------------------------------------------------------\n",
      "Error Cuadrático Medio (MSE): 7.022255675974035\n",
      "Error Absoluto Medio (MAE): 2.0199004143164685\n",
      "Coeficiente de Determinación (R²): 0.47567318945140535\n"
     ]
    }
   ],
   "execution_count": 57
  },
  {
   "metadata": {},
   "cell_type": "markdown",
   "source": "",
   "id": "473a0ba4ae8fb572"
  },
  {
   "metadata": {},
   "cell_type": "markdown",
   "source": "## Conclusiones",
   "id": "7e964a3d91bfd578"
  },
  {
   "metadata": {},
   "cell_type": "markdown",
   "source": [
    "Para el dioxido de azufre:\n",
    "* MSE Bajo: El error cuadrático medio es muy bajo, lo que indica que el modelo tiene una precisión alta en la predicción de las concentraciones de SO₂.\n",
    "* R2 Moderado: Un R² de 0.44 sugiere que el modelo explica aproximadamente el 44% de la variabilidad de la variable objetivo. Aunque el MSE es bajo, el R² indica que el modelo no captura toda la variabilidad de los datos, por lo que hay espacio para mejorar la precisión del modelo.\n",
    "\n",
    "Para MP10:\n",
    "* MSE Alto: El MSE es considerablemente alto, lo que sugiere que el modelo tiene dificultades para predecir las concentraciones de MP10 con precisión. Hay una gran cantidad de error en las predicciones del modelo.\n",
    "* R2 Bajo: Un R² de 0.31 indica que el modelo solo explica el 31% de la variabilidad de las concentraciones de MP10. Esto sugiere que el modelo tiene un ajuste deficiente y que podría no estar capturando bien las relaciones entre las características y la variable objetivo.\n",
    "\n",
    "Para MP2.5:\n",
    "* MSE Moderado: Aunque el MSE es más alto en comparación con SO₂, no es tan alto como el de MP10. Esto indica una precisión razonable en las predicciones de MP2.5.\n",
    "* R2 Moderado: Un R² de 0.48 indica que el modelo explica el 48% de la variabilidad en las concentraciones de MP2.5. Aunque no es ideal, es mejor que el R² para MP10, y sugiere un ajuste moderado del modelo.\n"
   ],
   "id": "b5b2ee05dd5e67ac"
  }
 ],
 "metadata": {
  "kernelspec": {
   "display_name": "Python 3",
   "language": "python",
   "name": "python3"
  },
  "language_info": {
   "codemirror_mode": {
    "name": "ipython",
    "version": 2
   },
   "file_extension": ".py",
   "mimetype": "text/x-python",
   "name": "python",
   "nbconvert_exporter": "python",
   "pygments_lexer": "ipython2",
   "version": "2.7.6"
  }
 },
 "nbformat": 4,
 "nbformat_minor": 5
}
